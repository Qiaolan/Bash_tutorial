{
 "cells": [
  {
   "cell_type": "markdown",
   "metadata": {},
   "source": [
    "Record some frequent commands I use every day."
   ]
  },
  {
   "cell_type": "markdown",
   "metadata": {},
   "source": [
    "# 1. Bash 101"
   ]
  },
  {
   "cell_type": "markdown",
   "metadata": {},
   "source": [
    "#### print current working directory"
   ]
  },
  {
   "cell_type": "code",
   "execution_count": 1,
   "metadata": {},
   "outputs": [
    {
     "name": "stdout",
     "output_type": "stream",
     "text": [
      "/Users/qiaolan_macpro/Bash_tutorial\r\n"
     ]
    }
   ],
   "source": [
    "! pwd"
   ]
  },
  {
   "cell_type": "markdown",
   "metadata": {},
   "source": [
    "#### list files in `pwd`"
   ]
  },
  {
   "cell_type": "code",
   "execution_count": 46,
   "metadata": {},
   "outputs": [
    {
     "name": "stdout",
     "output_type": "stream",
     "text": [
      "Bash_tutorial.ipynb README.md           \u001b[34mtest\u001b[m\u001b[m\r\n"
     ]
    }
   ],
   "source": [
    "! ls"
   ]
  },
  {
   "cell_type": "code",
   "execution_count": 47,
   "metadata": {},
   "outputs": [
    {
     "name": "stdout",
     "output_type": "stream",
     "text": [
      "total 24\r\n",
      "-rw-r--r--  1 qiaolan_macpro  staff  4143 Feb 13 21:32 Bash_tutorial.ipynb\r\n",
      "-rw-r--r--  1 qiaolan_macpro  staff   185 Feb 13 21:19 README.md\r\n",
      "drwxr-xr-x  2 qiaolan_macpro  staff    64 Feb 13 21:27 \u001b[34mtest\u001b[m\u001b[m\r\n"
     ]
    }
   ],
   "source": [
    "! ls -l   # more info"
   ]
  },
  {
   "cell_type": "code",
   "execution_count": 48,
   "metadata": {},
   "outputs": [
    {
     "name": "stdout",
     "output_type": "stream",
     "text": [
      "total 24\r\n",
      "-rw-r--r--  1 qiaolan_macpro  staff   4.0K Feb 13 21:32 Bash_tutorial.ipynb\r\n",
      "-rw-r--r--  1 qiaolan_macpro  staff   185B Feb 13 21:19 README.md\r\n",
      "drwxr-xr-x  2 qiaolan_macpro  staff    64B Feb 13 21:27 \u001b[34mtest\u001b[m\u001b[m\r\n"
     ]
    }
   ],
   "source": [
    "! ls -lh   # readable size of files"
   ]
  },
  {
   "cell_type": "markdown",
   "metadata": {},
   "source": [
    "#### make a new file folder named __test__. We can see it is in color blue."
   ]
  },
  {
   "cell_type": "code",
   "execution_count": 49,
   "metadata": {},
   "outputs": [
    {
     "name": "stdout",
     "output_type": "stream",
     "text": [
      "mkdir: test: File exists\r\n"
     ]
    }
   ],
   "source": [
    "! mkdir test "
   ]
  },
  {
   "cell_type": "code",
   "execution_count": 50,
   "metadata": {},
   "outputs": [
    {
     "name": "stdout",
     "output_type": "stream",
     "text": [
      "Bash_tutorial.ipynb README.md           \u001b[34mtest\u001b[m\u001b[m\r\n"
     ]
    }
   ],
   "source": [
    "! ls "
   ]
  },
  {
   "cell_type": "markdown",
   "metadata": {},
   "source": [
    "#### change working directory to __test__"
   ]
  },
  {
   "cell_type": "code",
   "execution_count": 51,
   "metadata": {},
   "outputs": [],
   "source": [
    "! cd test   # change to your home directory"
   ]
  },
  {
   "cell_type": "code",
   "execution_count": 52,
   "metadata": {},
   "outputs": [],
   "source": [
    "! cd ..   # return previous level"
   ]
  },
  {
   "cell_type": "code",
   "execution_count": 53,
   "metadata": {},
   "outputs": [
    {
     "name": "stdout",
     "output_type": "stream",
     "text": [
      "/Users/qiaolan_macpro/Bash_tutorial\r\n"
     ]
    }
   ],
   "source": [
    "! pwd"
   ]
  },
  {
   "cell_type": "markdown",
   "metadata": {},
   "source": [
    "#### copy and move files"
   ]
  },
  {
   "cell_type": "markdown",
   "metadata": {},
   "source": [
    "`cp file1 ./test`   # copy file1 to test folder"
   ]
  },
  {
   "cell_type": "markdown",
   "metadata": {},
   "source": [
    "`mv file1 ./test` # move file1 to test folder"
   ]
  },
  {
   "cell_type": "markdown",
   "metadata": {},
   "source": [
    "#### print number of lines in a file "
   ]
  },
  {
   "cell_type": "markdown",
   "metadata": {},
   "source": [
    "`wc -l sample.txt` "
   ]
  },
  {
   "cell_type": "markdown",
   "metadata": {},
   "source": [
    "# 2. awk "
   ]
  },
  {
   "cell_type": "markdown",
   "metadata": {},
   "source": [
    "#### print number of rows in a file "
   ]
  },
  {
   "cell_type": "markdown",
   "metadata": {},
   "source": [
    "`awk '{print NF; exit}' sample.txt` NF represents number of fields"
   ]
  },
  {
   "cell_type": "markdown",
   "metadata": {},
   "source": [
    "#### print values in column 10 not equal to -9 and save"
   ]
  },
  {
   "cell_type": "markdown",
   "metadata": {},
   "source": [
    "`awk '$10 != -9' sample.txt > sample_noNA.txt `"
   ]
  },
  {
   "cell_type": "markdown",
   "metadata": {},
   "source": [
    "#### save lines in amd.txt that matches snp (1st field) in thick.txt"
   ]
  },
  {
   "cell_type": "markdown",
   "metadata": {},
   "source": [
    "` awk 'FILENAME==\"thick.txt\"{A[$1]=$1} FILENAME==\"amd.txt\"{if(A[$1]){print}}' thick.txt amd.txt`"
   ]
  },
  {
   "cell_type": "markdown",
   "metadata": {},
   "source": [
    "FILENAME is build-in variable in awk"
   ]
  },
  {
   "cell_type": "markdown",
   "metadata": {},
   "source": [
    "#### save lines in amd that do not exist in thick and save "
   ]
  },
  {
   "cell_type": "markdown",
   "metadata": {},
   "source": [
    "`awk 'FNR==NR{a[$1];next};!($1 in a)' thick.impout amd.txt > diff.txt`"
   ]
  },
  {
   "cell_type": "markdown",
   "metadata": {},
   "source": [
    "`FNR` represents number of fields relative to current input. `NR` represents total number of records being processed or line number"
   ]
  },
  {
   "cell_type": "markdown",
   "metadata": {},
   "source": [
    "#### remove duplicate values in column 3 "
   ]
  },
  {
   "cell_type": "markdown",
   "metadata": {},
   "source": [
    "`awk '!seen[$3]++' filename`"
   ]
  },
  {
   "cell_type": "markdown",
   "metadata": {},
   "source": [
    "#### remove/don't print certain fields: 6 and 8 "
   ]
  },
  {
   "cell_type": "markdown",
   "metadata": {},
   "source": [
    "`awk '{$6=$8=\"\"; print $0}' file`"
   ]
  },
  {
   "cell_type": "markdown",
   "metadata": {},
   "source": [
    "### FOR loop to iterate a file folder"
   ]
  },
  {
   "cell_type": "code",
   "execution_count": null,
   "metadata": {},
   "outputs": [],
   "source": [
    "#! /usr/bin/bash\n",
    "\n",
    "echo Which chromosome?\n",
    "read N\n",
    "\n",
    "cd /fs/project/PAS1501/gaolab/qldeng/Eden/Cohort_Analysis/\"chr${N}\"\n",
    "\n",
    "pat='/fs/project/PAS1501/AD_Eden/cohorts/*'   # the directory you would like to iterate\n",
    "\n",
    "for i in $pat   # i is the full path under pat\n",
    "\n",
    "do\n",
    "        (x=`basename \"$i\"`   # x is just the file name not full path\n",
    "        cd /fs/project/PAS1501/gaolab/qldeng/Eden/Cohort_Analysis/\"chr${N}\"  # use {} with variables\n",
    "        mkdir $x\n",
    "        cd $x\n",
    "        /fs/project/PAS1501/gaolab/software/plink2/plink2 --gen /fs/project/PAS1501/AD_Eden/cohorts/\"${x}\"/\"chr${N}.gen\" ref-first --sample /fs/project/PAS1501/AD_Eden/cohorts/\"${x}\"/\"${x}.sample\" --maf 0.01 --mach-r2-filter 0.3 --missing-code -9 --export oxford --out \"${x}_chr${N}\")&\n",
    "\n",
    "done\n",
    "\n",
    "wait"
   ]
  },
  {
   "cell_type": "markdown",
   "metadata": {},
   "source": [
    "### remove header and add header\n",
    "`sed -i '1d' thick_n.txt`\n",
    "\n",
    "`sed  -i '1i snpid chr bpos a1 a2 freq beta se pval n' thick_n.txt`"
   ]
  },
  {
   "cell_type": "markdown",
   "metadata": {},
   "source": [
    "### print certain line\n",
    "`sed -n LINE_NUMBERp file.txt`"
   ]
  },
  {
   "cell_type": "markdown",
   "metadata": {},
   "source": [
    "### find and replace\n",
    "`sed 's/chr22/chr1/g' meta_command`"
   ]
  },
  {
   "cell_type": "markdown",
   "metadata": {},
   "source": [
    "### transpose a file"
   ]
  },
  {
   "cell_type": "markdown",
   "metadata": {},
   "source": [
    "`awk 'BEGIN { ORS = \" \" } { print }' infile`"
   ]
  },
  {
   "cell_type": "markdown",
   "metadata": {},
   "source": [
    "### equivalent to R paste0"
   ]
  },
  {
   "cell_type": "markdown",
   "metadata": {},
   "source": [
    "`awk '{print $3 \"-\" $4}'` file    (# there is no comma between terms)"
   ]
  },
  {
   "cell_type": "code",
   "execution_count": null,
   "metadata": {},
   "outputs": [],
   "source": []
  },
  {
   "cell_type": "code",
   "execution_count": null,
   "metadata": {},
   "outputs": [],
   "source": []
  }
 ],
 "metadata": {
  "kernelspec": {
   "display_name": "conda_notebook",
   "language": "python",
   "name": "notebook"
  },
  "language_info": {
   "codemirror_mode": {
    "name": "ipython",
    "version": 3
   },
   "file_extension": ".py",
   "mimetype": "text/x-python",
   "name": "python",
   "nbconvert_exporter": "python",
   "pygments_lexer": "ipython3",
   "version": "3.7.7"
  }
 },
 "nbformat": 4,
 "nbformat_minor": 4
}
